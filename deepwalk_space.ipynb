{
 "cells": [
  {
   "cell_type": "code",
   "execution_count": 17,
   "metadata": {},
   "outputs": [],
   "source": [
    "import networkx as nx\n",
    "import pandas as pd\n",
    "import numpy as np\n",
    "import random\n",
    "from tqdm import tqdm\n",
    "from sklearn.decomposition import PCA\n",
    "from pprint import pprint\n",
    "\n",
    "import matplotlib.pyplot as plt\n",
    "%matplotlib inline"
   ]
  },
  {
   "cell_type": "markdown",
   "metadata": {},
   "source": [
    "You can get the dataset from https://densitydesign.github.io/strumentalia-seealsology/\n",
    "\n",
    "__Steps to download:__\n",
    "\n",
    "a) Enter the following links:\n",
    "\n",
    "https://en.wikipedia.org/wiki/Space_research\n",
    "\n",
    "https://en.wikipedia.org/wiki/Space_Race\n",
    "\n",
    "https://en.wikipedia.org/wiki/Space_exploration\n",
    "\n",
    "b) Download the TSV file."
   ]
  },
  {
   "cell_type": "code",
   "execution_count": 2,
   "metadata": {},
   "outputs": [],
   "source": [
    "df = pd.read_csv(\"space_data.tsv\", sep = \"\\t\")"
   ]
  },
  {
   "cell_type": "code",
   "execution_count": 3,
   "metadata": {},
   "outputs": [
    {
     "data": {
      "text/html": [
       "<div>\n",
       "<style scoped>\n",
       "    .dataframe tbody tr th:only-of-type {\n",
       "        vertical-align: middle;\n",
       "    }\n",
       "\n",
       "    .dataframe tbody tr th {\n",
       "        vertical-align: top;\n",
       "    }\n",
       "\n",
       "    .dataframe thead th {\n",
       "        text-align: right;\n",
       "    }\n",
       "</style>\n",
       "<table border=\"1\" class=\"dataframe\">\n",
       "  <thead>\n",
       "    <tr style=\"text-align: right;\">\n",
       "      <th></th>\n",
       "      <th>source</th>\n",
       "      <th>target</th>\n",
       "      <th>depth</th>\n",
       "    </tr>\n",
       "  </thead>\n",
       "  <tbody>\n",
       "    <tr>\n",
       "      <th>0</th>\n",
       "      <td>space exploration</td>\n",
       "      <td>discovery and exploration of the solar system</td>\n",
       "      <td>1</td>\n",
       "    </tr>\n",
       "    <tr>\n",
       "      <th>1</th>\n",
       "      <td>space exploration</td>\n",
       "      <td>in-space propulsion technologies</td>\n",
       "      <td>1</td>\n",
       "    </tr>\n",
       "    <tr>\n",
       "      <th>2</th>\n",
       "      <td>space exploration</td>\n",
       "      <td>robotic spacecraft</td>\n",
       "      <td>1</td>\n",
       "    </tr>\n",
       "    <tr>\n",
       "      <th>3</th>\n",
       "      <td>space exploration</td>\n",
       "      <td>timeline of planetary exploration</td>\n",
       "      <td>1</td>\n",
       "    </tr>\n",
       "    <tr>\n",
       "      <th>4</th>\n",
       "      <td>space exploration</td>\n",
       "      <td>landings on other planets</td>\n",
       "      <td>1</td>\n",
       "    </tr>\n",
       "  </tbody>\n",
       "</table>\n",
       "</div>"
      ],
      "text/plain": [
       "              source                                         target  depth\n",
       "0  space exploration  discovery and exploration of the solar system      1\n",
       "1  space exploration               in-space propulsion technologies      1\n",
       "2  space exploration                             robotic spacecraft      1\n",
       "3  space exploration              timeline of planetary exploration      1\n",
       "4  space exploration                      landings on other planets      1"
      ]
     },
     "execution_count": 3,
     "metadata": {},
     "output_type": "execute_result"
    }
   ],
   "source": [
    "df.head()"
   ]
  },
  {
   "cell_type": "code",
   "execution_count": 6,
   "metadata": {},
   "outputs": [
    {
     "data": {
      "text/plain": [
       "(3328, 3)"
      ]
     },
     "execution_count": 6,
     "metadata": {},
     "output_type": "execute_result"
    }
   ],
   "source": [
    "df.shape"
   ]
  },
  {
   "cell_type": "code",
   "execution_count": 4,
   "metadata": {},
   "outputs": [],
   "source": [
    "# construct an undirected graph\n",
    "G=nx.from_pandas_edgelist(df, \"source\", \"target\", edge_attr=True, create_using=nx.Graph())"
   ]
  },
  {
   "cell_type": "code",
   "execution_count": 5,
   "metadata": {},
   "outputs": [
    {
     "data": {
      "text/plain": [
       "2088"
      ]
     },
     "execution_count": 5,
     "metadata": {},
     "output_type": "execute_result"
    }
   ],
   "source": [
    "len(G) # number of nodes"
   ]
  },
  {
   "cell_type": "code",
   "execution_count": 7,
   "metadata": {},
   "outputs": [
    {
     "data": {
      "text/plain": [
       "networkx.classes.graph.Graph"
      ]
     },
     "execution_count": 7,
     "metadata": {},
     "output_type": "execute_result"
    }
   ],
   "source": [
    "G.__class__"
   ]
  },
  {
   "cell_type": "code",
   "execution_count": 10,
   "metadata": {},
   "outputs": [],
   "source": [
    "# function to generate random walk sequences of nodes\n",
    "def get_randomwalk(node, path_length):\n",
    "    \n",
    "    random_walk = [node]\n",
    "    \n",
    "    for i in range(path_length-1):\n",
    "        temp = list(G.neighbors(node))\n",
    "        temp = list(set(temp) - set(random_walk))    \n",
    "        if len(temp) == 0:\n",
    "            break\n",
    "\n",
    "        random_node = random.choice(temp)\n",
    "        random_walk.append(random_node)\n",
    "        node = random_node\n",
    "        \n",
    "    return random_walk"
   ]
  },
  {
   "cell_type": "code",
   "execution_count": 11,
   "metadata": {},
   "outputs": [
    {
     "data": {
      "text/plain": [
       "['space exploration',\n",
       " 'interplanetary contamination',\n",
       " 'space probe',\n",
       " 'space age',\n",
       " 'googie architecture',\n",
       " 'fantastic architecture']"
      ]
     },
     "execution_count": 11,
     "metadata": {},
     "output_type": "execute_result"
    }
   ],
   "source": [
    "get_randomwalk('space exploration', 10)"
   ]
  },
  {
   "cell_type": "code",
   "execution_count": 12,
   "metadata": {},
   "outputs": [
    {
     "name": "stderr",
     "output_type": "stream",
     "text": [
      "100%|████████████████████████████████████| 2088/2088 [00:00<00:00, 8700.00it/s]\n"
     ]
    }
   ],
   "source": [
    "all_nodes = list(G.nodes())\n",
    "\n",
    "random_walks = []\n",
    "\n",
    "for n in tqdm(all_nodes):\n",
    "    for i in range(5):\n",
    "        random_walks.append(get_randomwalk(n,10))"
   ]
  },
  {
   "cell_type": "code",
   "execution_count": 18,
   "metadata": {},
   "outputs": [
    {
     "name": "stdout",
     "output_type": "stream",
     "text": [
      "<class 'list'>\n",
      "[['space exploration',\n",
      "  'exploration of mars',\n",
      "  'exomars',\n",
      "  'mars global remote sensing orbiter and small rover'],\n",
      " ['space exploration',\n",
      "  'venera program',\n",
      "  'vega program',\n",
      "  'pioneer venus orbiter',\n",
      "  'pioneer venus multiprobe'],\n",
      " ['space exploration',\n",
      "  'space research',\n",
      "  'space science',\n",
      "  'centennial challenges',\n",
      "  'antarctica'],\n",
      " ['space exploration',\n",
      "  'mars to stay',\n",
      "  'inspiration mars foundation',\n",
      "  'mars direct',\n",
      "  'mars one',\n",
      "  'private spaceflight',\n",
      "  'inspiration mars',\n",
      "  'effect of spaceflight on the human body',\n",
      "  'mars analog habitat',\n",
      "  'present day mars habitability analogue environments on earth'],\n",
      " ['space exploration',\n",
      "  'religion in space',\n",
      "  'astronomy and religion',\n",
      "  'astronomy and christianity']]\n"
     ]
    }
   ],
   "source": [
    "# count of sequences\n",
    "pprint(random_walks.__class__)\n",
    "pprint(random_walks[0:5])"
   ]
  },
  {
   "cell_type": "markdown",
   "metadata": {},
   "source": [
    "一个图网络，生成多个序列特征。"
   ]
  },
  {
   "cell_type": "code",
   "execution_count": 19,
   "metadata": {},
   "outputs": [],
   "source": [
    "from gensim.models import Word2Vec\n",
    "\n",
    "import warnings\n",
    "warnings.filterwarnings('ignore')"
   ]
  },
  {
   "cell_type": "code",
   "execution_count": 20,
   "metadata": {},
   "outputs": [],
   "source": [
    "# train word2vec model\n",
    "model = Word2Vec(window = 4, sg = 1, hs = 0,\n",
    "                 negative = 10, # for negative sampling\n",
    "                 alpha=0.03, min_alpha=0.0007,\n",
    "                 seed = 14)\n",
    "\n",
    "model.build_vocab(random_walks, progress_per=2)"
   ]
  },
  {
   "cell_type": "code",
   "execution_count": 21,
   "metadata": {},
   "outputs": [
    {
     "data": {
      "text/plain": [
       "(968002, 995020)"
      ]
     },
     "execution_count": 21,
     "metadata": {},
     "output_type": "execute_result"
    }
   ],
   "source": [
    "model.train(random_walks, total_examples = model.corpus_count, epochs=20, report_delay=1)"
   ]
  },
  {
   "cell_type": "code",
   "execution_count": 22,
   "metadata": {},
   "outputs": [
    {
     "name": "stdout",
     "output_type": "stream",
     "text": [
      "Word2Vec(vocab=2088, size=100, alpha=0.03)\n"
     ]
    }
   ],
   "source": [
    "print(model)"
   ]
  },
  {
   "cell_type": "code",
   "execution_count": 23,
   "metadata": {},
   "outputs": [
    {
     "data": {
      "text/plain": [
       "[('micro-g environment', 0.9768314957618713),\n",
       " ('reduced-gravity aircraft', 0.9589313268661499),\n",
       " ('spaceflight osteopenia', 0.873708963394165),\n",
       " ('renal stone formation in space', 0.8724939823150635),\n",
       " ('microgravity university', 0.8606730699539185),\n",
       " ('space psychology', 0.8559364676475525),\n",
       " ('psychological and sociological effects of spaceflight', 0.8460075259208679),\n",
       " ('gravitational shielding', 0.844504714012146),\n",
       " ('timeline of longest spaceflights', 0.841846764087677),\n",
       " ('space adaptation syndrome', 0.8339583873748779)]"
      ]
     },
     "execution_count": 23,
     "metadata": {},
     "output_type": "execute_result"
    }
   ],
   "source": [
    "# find top n similar nodes\n",
    "model.similar_by_word('astronaut training')"
   ]
  },
  {
   "cell_type": "code",
   "execution_count": 24,
   "metadata": {},
   "outputs": [],
   "source": [
    "terms = ['lunar escape systems','soviet moonshot', 'soyuz 7k-l1', 'moon landing',\n",
    "         'space food', 'food systems on space exploration missions', 'meal, ready-to-eat',\n",
    "         'space law', 'metalaw', 'moon treaty', 'legal aspects of computing',\n",
    "         'astronaut training', 'reduced-gravity aircraft', 'space adaptation syndrome', 'micro-g environment']"
   ]
  },
  {
   "cell_type": "code",
   "execution_count": 25,
   "metadata": {},
   "outputs": [],
   "source": [
    "def plot_nodes(word_list):\n",
    "    X = model[word_list]\n",
    "    \n",
    "    # reduce dimensions to 2\n",
    "    pca = PCA(n_components=2)\n",
    "    result = pca.fit_transform(X)\n",
    "    \n",
    "    \n",
    "    plt.figure(figsize=(12,9))\n",
    "    # create a scatter plot of the projection\n",
    "    plt.scatter(result[:, 0], result[:, 1])\n",
    "    for i, word in enumerate(word_list):\n",
    "        plt.annotate(word, xy=(result[i, 0], result[i, 1]))\n",
    "        \n",
    "    plt.show()"
   ]
  },
  {
   "cell_type": "code",
   "execution_count": 26,
   "metadata": {},
   "outputs": [
    {
     "data": {
      "image/png": "[encoded data removed]",
      "text/plain": [
       "<Figure size 864x648 with 1 Axes>"
      ]
     },
     "metadata": {
      "needs_background": "light"
     },
     "output_type": "display_data"
    }
   ],
   "source": [
    "plot_nodes(terms)"
   ]
  }
 ],
 "metadata": {
  "kernelspec": {
   "display_name": "Python 3",
   "language": "python",
   "name": "python3"
  },
  "language_info": {
   "codemirror_mode": {
    "name": "ipython",
    "version": 3
   },
   "file_extension": ".py",
   "mimetype": "text/x-python",
   "name": "python",
   "nbconvert_exporter": "python",
   "pygments_lexer": "ipython3",
   "version": "3.7.3"
  }
 },
 "nbformat": 4,
 "nbformat_minor": 2
}
